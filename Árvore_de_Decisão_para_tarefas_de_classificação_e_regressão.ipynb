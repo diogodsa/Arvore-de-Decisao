{
  "nbformat": 4,
  "nbformat_minor": 0,
  "metadata": {
    "kernelspec": {
      "display_name": "Python 3",
      "language": "python",
      "name": "python3"
    },
    "language_info": {
      "codemirror_mode": {
        "name": "ipython",
        "version": 3
      },
      "file_extension": ".py",
      "mimetype": "text/x-python",
      "name": "python",
      "nbconvert_exporter": "python",
      "pygments_lexer": "ipython3",
      "version": "3.7.4"
    },
    "colab": {
      "name": "Árvore de Decisão para tarefas de classificação e regressão.ipynb",
      "provenance": [],
      "toc_visible": true,
      "include_colab_link": true
    }
  },
  "cells": [
    {
      "cell_type": "markdown",
      "metadata": {
        "id": "view-in-github",
        "colab_type": "text"
      },
      "source": [
        "<a href=\"https://colab.research.google.com/github/diogodsa/Arvore-de-Decisao/blob/master/%C3%81rvore_de_Decis%C3%A3o_para_tarefas_de_classifica%C3%A7%C3%A3o_e_regress%C3%A3o.ipynb\" target=\"_parent\"><img src=\"https://colab.research.google.com/assets/colab-badge.svg\" alt=\"Open In Colab\"/></a>"
      ]
    },
    {
      "cell_type": "markdown",
      "metadata": {
        "id": "DAd8uwiUIVhJ",
        "colab_type": "text"
      },
      "source": [
        "## Árvore de Decisão para tarefas de classificação e regressão\n",
        "\n",
        " \n",
        "\n",
        "#### Motivação\n",
        "\n",
        "\n",
        "- Árvore de classificação\n",
        "\n",
        "- Árvore de regressão\n",
        "\n",
        "- Separação da base em treinamento e teste\n",
        "\n",
        "- Matriz de Confusão\n",
        "\n",
        "- Métricas de avaliação: MAE e RMSE\n",
        "\n",
        " \n",
        "\n",
        "________________________________________________________\n"
      ]
    },
    {
      "cell_type": "code",
      "metadata": {
        "id": "fAFkcU_OIVhK",
        "colab_type": "code",
        "colab": {}
      },
      "source": [
        "# Carregando as bibliotecas\n",
        "\n",
        "import pandas as pd\n",
        "import numpy as np\n",
        "import matplotlib.pyplot as plt\n",
        "get_ipython().run_line_magic('matplotlib', 'inline')\n"
      ],
      "execution_count": 1,
      "outputs": []
    },
    {
      "cell_type": "code",
      "metadata": {
        "id": "PQasAVb9IVhO",
        "colab_type": "code",
        "colab": {}
      },
      "source": [
        "# Carregando a base de dados e fazendo os checks iniciais\n",
        "\n",
        "# Muda o diretorio de trabalho\n",
        "import os\n",
        "os.chdir(\"Bases de Dados\")\n",
        "\n",
        "df1 = pd.read_csv(\"bill_authentication.csv\")"
      ],
      "execution_count": 2,
      "outputs": []
    },
    {
      "cell_type": "code",
      "metadata": {
        "id": "K9Vz6ZYaIVhQ",
        "colab_type": "code",
        "colab": {}
      },
      "source": [
        "# sobre a base de dados\n",
        "# https://archive.ics.uci.edu/ml/datasets/banknote+authentication"
      ],
      "execution_count": null,
      "outputs": []
    },
    {
      "cell_type": "code",
      "metadata": {
        "id": "sGJSAB9TIVhT",
        "colab_type": "code",
        "colab": {
          "base_uri": "https://localhost:8080/",
          "height": 35
        },
        "outputId": "24358d78-99ee-4183-cf94-e5af2a6ab7e5"
      },
      "source": [
        "df1.shape"
      ],
      "execution_count": 3,
      "outputs": [
        {
          "output_type": "execute_result",
          "data": {
            "text/plain": [
              "(1372, 5)"
            ]
          },
          "metadata": {
            "tags": []
          },
          "execution_count": 3
        }
      ]
    },
    {
      "cell_type": "code",
      "metadata": {
        "id": "BQGAfAybIVhW",
        "colab_type": "code",
        "colab": {
          "base_uri": "https://localhost:8080/",
          "height": 204
        },
        "outputId": "f39aaffc-f7a9-434c-bc72-f1153778e5f9"
      },
      "source": [
        "df1.head()"
      ],
      "execution_count": 4,
      "outputs": [
        {
          "output_type": "execute_result",
          "data": {
            "text/html": [
              "<div>\n",
              "<style scoped>\n",
              "    .dataframe tbody tr th:only-of-type {\n",
              "        vertical-align: middle;\n",
              "    }\n",
              "\n",
              "    .dataframe tbody tr th {\n",
              "        vertical-align: top;\n",
              "    }\n",
              "\n",
              "    .dataframe thead th {\n",
              "        text-align: right;\n",
              "    }\n",
              "</style>\n",
              "<table border=\"1\" class=\"dataframe\">\n",
              "  <thead>\n",
              "    <tr style=\"text-align: right;\">\n",
              "      <th></th>\n",
              "      <th>Variance</th>\n",
              "      <th>Skewness</th>\n",
              "      <th>Curtosis</th>\n",
              "      <th>Entropy</th>\n",
              "      <th>Class</th>\n",
              "    </tr>\n",
              "  </thead>\n",
              "  <tbody>\n",
              "    <tr>\n",
              "      <th>0</th>\n",
              "      <td>3.62160</td>\n",
              "      <td>8.6661</td>\n",
              "      <td>-2.8073</td>\n",
              "      <td>-0.44699</td>\n",
              "      <td>0</td>\n",
              "    </tr>\n",
              "    <tr>\n",
              "      <th>1</th>\n",
              "      <td>4.54590</td>\n",
              "      <td>8.1674</td>\n",
              "      <td>-2.4586</td>\n",
              "      <td>-1.46210</td>\n",
              "      <td>0</td>\n",
              "    </tr>\n",
              "    <tr>\n",
              "      <th>2</th>\n",
              "      <td>3.86600</td>\n",
              "      <td>-2.6383</td>\n",
              "      <td>1.9242</td>\n",
              "      <td>0.10645</td>\n",
              "      <td>0</td>\n",
              "    </tr>\n",
              "    <tr>\n",
              "      <th>3</th>\n",
              "      <td>3.45660</td>\n",
              "      <td>9.5228</td>\n",
              "      <td>-4.0112</td>\n",
              "      <td>-3.59440</td>\n",
              "      <td>0</td>\n",
              "    </tr>\n",
              "    <tr>\n",
              "      <th>4</th>\n",
              "      <td>0.32924</td>\n",
              "      <td>-4.4552</td>\n",
              "      <td>4.5718</td>\n",
              "      <td>-0.98880</td>\n",
              "      <td>0</td>\n",
              "    </tr>\n",
              "  </tbody>\n",
              "</table>\n",
              "</div>"
            ],
            "text/plain": [
              "   Variance  Skewness  Curtosis  Entropy  Class\n",
              "0   3.62160    8.6661   -2.8073 -0.44699      0\n",
              "1   4.54590    8.1674   -2.4586 -1.46210      0\n",
              "2   3.86600   -2.6383    1.9242  0.10645      0\n",
              "3   3.45660    9.5228   -4.0112 -3.59440      0\n",
              "4   0.32924   -4.4552    4.5718 -0.98880      0"
            ]
          },
          "metadata": {
            "tags": []
          },
          "execution_count": 4
        }
      ]
    },
    {
      "cell_type": "code",
      "metadata": {
        "id": "SoYAbHh1IVha",
        "colab_type": "code",
        "colab": {
          "base_uri": "https://localhost:8080/",
          "height": 297
        },
        "outputId": "b54c9d38-3c3c-4cfe-8a4b-82c85af976ab"
      },
      "source": [
        "df1.describe()"
      ],
      "execution_count": 5,
      "outputs": [
        {
          "output_type": "execute_result",
          "data": {
            "text/html": [
              "<div>\n",
              "<style scoped>\n",
              "    .dataframe tbody tr th:only-of-type {\n",
              "        vertical-align: middle;\n",
              "    }\n",
              "\n",
              "    .dataframe tbody tr th {\n",
              "        vertical-align: top;\n",
              "    }\n",
              "\n",
              "    .dataframe thead th {\n",
              "        text-align: right;\n",
              "    }\n",
              "</style>\n",
              "<table border=\"1\" class=\"dataframe\">\n",
              "  <thead>\n",
              "    <tr style=\"text-align: right;\">\n",
              "      <th></th>\n",
              "      <th>Variance</th>\n",
              "      <th>Skewness</th>\n",
              "      <th>Curtosis</th>\n",
              "      <th>Entropy</th>\n",
              "      <th>Class</th>\n",
              "    </tr>\n",
              "  </thead>\n",
              "  <tbody>\n",
              "    <tr>\n",
              "      <th>count</th>\n",
              "      <td>1372.000000</td>\n",
              "      <td>1372.000000</td>\n",
              "      <td>1372.000000</td>\n",
              "      <td>1372.000000</td>\n",
              "      <td>1372.000000</td>\n",
              "    </tr>\n",
              "    <tr>\n",
              "      <th>mean</th>\n",
              "      <td>0.433735</td>\n",
              "      <td>1.922353</td>\n",
              "      <td>1.397627</td>\n",
              "      <td>-1.191657</td>\n",
              "      <td>0.444606</td>\n",
              "    </tr>\n",
              "    <tr>\n",
              "      <th>std</th>\n",
              "      <td>2.842763</td>\n",
              "      <td>5.869047</td>\n",
              "      <td>4.310030</td>\n",
              "      <td>2.101013</td>\n",
              "      <td>0.497103</td>\n",
              "    </tr>\n",
              "    <tr>\n",
              "      <th>min</th>\n",
              "      <td>-7.042100</td>\n",
              "      <td>-13.773100</td>\n",
              "      <td>-5.286100</td>\n",
              "      <td>-8.548200</td>\n",
              "      <td>0.000000</td>\n",
              "    </tr>\n",
              "    <tr>\n",
              "      <th>25%</th>\n",
              "      <td>-1.773000</td>\n",
              "      <td>-1.708200</td>\n",
              "      <td>-1.574975</td>\n",
              "      <td>-2.413450</td>\n",
              "      <td>0.000000</td>\n",
              "    </tr>\n",
              "    <tr>\n",
              "      <th>50%</th>\n",
              "      <td>0.496180</td>\n",
              "      <td>2.319650</td>\n",
              "      <td>0.616630</td>\n",
              "      <td>-0.586650</td>\n",
              "      <td>0.000000</td>\n",
              "    </tr>\n",
              "    <tr>\n",
              "      <th>75%</th>\n",
              "      <td>2.821475</td>\n",
              "      <td>6.814625</td>\n",
              "      <td>3.179250</td>\n",
              "      <td>0.394810</td>\n",
              "      <td>1.000000</td>\n",
              "    </tr>\n",
              "    <tr>\n",
              "      <th>max</th>\n",
              "      <td>6.824800</td>\n",
              "      <td>12.951600</td>\n",
              "      <td>17.927400</td>\n",
              "      <td>2.449500</td>\n",
              "      <td>1.000000</td>\n",
              "    </tr>\n",
              "  </tbody>\n",
              "</table>\n",
              "</div>"
            ],
            "text/plain": [
              "          Variance     Skewness     Curtosis      Entropy        Class\n",
              "count  1372.000000  1372.000000  1372.000000  1372.000000  1372.000000\n",
              "mean      0.433735     1.922353     1.397627    -1.191657     0.444606\n",
              "std       2.842763     5.869047     4.310030     2.101013     0.497103\n",
              "min      -7.042100   -13.773100    -5.286100    -8.548200     0.000000\n",
              "25%      -1.773000    -1.708200    -1.574975    -2.413450     0.000000\n",
              "50%       0.496180     2.319650     0.616630    -0.586650     0.000000\n",
              "75%       2.821475     6.814625     3.179250     0.394810     1.000000\n",
              "max       6.824800    12.951600    17.927400     2.449500     1.000000"
            ]
          },
          "metadata": {
            "tags": []
          },
          "execution_count": 5
        }
      ]
    },
    {
      "cell_type": "code",
      "metadata": {
        "id": "5-M7i8QXIVhd",
        "colab_type": "code",
        "colab": {}
      },
      "source": [
        "# Separando os dados com as variaveis em x e o alvo em y\n",
        " \n",
        "x1 = df1.drop('Class', axis=1)\n",
        "y1 = df1['Class']"
      ],
      "execution_count": null,
      "outputs": []
    },
    {
      "cell_type": "code",
      "metadata": {
        "id": "r01TpoMyIVhg",
        "colab_type": "code",
        "colab": {}
      },
      "source": [
        "df1.columns[0:4]"
      ],
      "execution_count": null,
      "outputs": []
    },
    {
      "cell_type": "code",
      "metadata": {
        "id": "Jj1WzPfIIVhj",
        "colab_type": "code",
        "colab": {}
      },
      "source": [
        "# Serpando os dados entre treinamento e teste\n",
        "# Para isto precisamos da funçao train_test_split da biblioteca sklearn\n",
        "# Se der qualquer problema na instalaçao da biblioteca pelo Anaconda, instale via pip\n",
        "# pip install sklearn\n",
        "\n",
        "from sklearn.model_selection import train_test_split\n",
        "\n",
        "x_train1, x_test1, y_train1, y_test1 = train_test_split(x1, y1, test_size=0.30)"
      ],
      "execution_count": null,
      "outputs": []
    },
    {
      "cell_type": "code",
      "metadata": {
        "id": "U3TZt2P-IVhl",
        "colab_type": "code",
        "colab": {}
      },
      "source": [
        "# Treinamento da arvore de decisao para a tarefa de classificaçao - reveja a aula de tarefas de data mining se preciso\n",
        "\n",
        "from sklearn.tree import DecisionTreeClassifier\n",
        "\n",
        "mod_arvore1 = DecisionTreeClassifier()\n",
        "\n",
        "mod_arvore1.fit(x_train1, y_train1) # essa é a linha que treina o modelo!!!!"
      ],
      "execution_count": null,
      "outputs": []
    },
    {
      "cell_type": "code",
      "metadata": {
        "id": "1PkC2D8cIVho",
        "colab_type": "code",
        "colab": {}
      },
      "source": [
        "# Prediçoes para o teste\n",
        "\n",
        "y_pred_test1 = mod_arvore1.predict(x_test1)"
      ],
      "execution_count": null,
      "outputs": []
    },
    {
      "cell_type": "code",
      "metadata": {
        "scrolled": true,
        "id": "lL90mVhNIVhs",
        "colab_type": "code",
        "colab": {}
      },
      "source": [
        "# Como availar os resultados?\n",
        "\n",
        "from sklearn.metrics import classification_report, confusion_matrix\n",
        "\n",
        "print(confusion_matrix(y_test1, y_pred_test1))\n",
        "print()\n",
        "print(\"--------------------------------------------------------------------------------\")\n",
        "print()\n",
        "print(classification_report(y_test1, y_pred_test1))"
      ],
      "execution_count": null,
      "outputs": []
    },
    {
      "cell_type": "code",
      "metadata": {
        "scrolled": true,
        "id": "C2q1vL7tIVhv",
        "colab_type": "code",
        "colab": {}
      },
      "source": [
        "# Acuràcia do modelo\n",
        "import sklearn.metrics as metrics\n",
        "\n",
        "print(\"Acuracia:\", round(metrics.accuracy_score(y_test1, y_pred_test1),3))"
      ],
      "execution_count": null,
      "outputs": []
    },
    {
      "cell_type": "code",
      "metadata": {
        "id": "5NY-IFwMIVhx",
        "colab_type": "code",
        "colab": {}
      },
      "source": [
        "# Para visualizar a arvore de decisao, siga estes passos, nesta ordem:\n",
        "\n",
        "# 1 - Download deste arquivo - https://graphviz.gitlab.io/_pages/Download/windows/graphviz-2.38.msi\n",
        "# 2 - Instalaçao das bibliotecas graphviz e pydotplus\n",
        "# 3 - Rode o codigo a seguir toda vez que quiser plotar:\n",
        "\n",
        "os.environ[\"PATH\"] += os.pathsep + 'C:/Program Files (x86)/Graphviz2.38/bin/'"
      ],
      "execution_count": null,
      "outputs": []
    },
    {
      "cell_type": "code",
      "metadata": {
        "scrolled": false,
        "id": "OWvyznh9IVhz",
        "colab_type": "code",
        "colab": {}
      },
      "source": [
        "from sklearn.externals.six import StringIO  \n",
        "from IPython.display import Image  \n",
        "from sklearn.tree import export_graphviz\n",
        "import pydotplus\n",
        "\n",
        "dot_data = StringIO()\n",
        "\n",
        "export_graphviz(mod_arvore1\n",
        "                , out_file = dot_data\n",
        "                , filled = True\n",
        "                , rounded = True\n",
        "                , special_characters = True\n",
        "                , feature_names = df1.columns[0:4]\n",
        "                , class_names=['0','1'])\n",
        "\n",
        "graph = pydotplus.graph_from_dot_data(dot_data.getvalue())  \n",
        "\n",
        "Image(graph.create_png())"
      ],
      "execution_count": null,
      "outputs": []
    },
    {
      "cell_type": "markdown",
      "metadata": {
        "id": "YWMK6IEFIVh2",
        "colab_type": "text"
      },
      "source": [
        "___________________________________________________"
      ]
    },
    {
      "cell_type": "markdown",
      "metadata": {
        "id": "UODlWyMBIVh2",
        "colab_type": "text"
      },
      "source": [
        "## Árvore de Decisão para a tarefa regressão"
      ]
    },
    {
      "cell_type": "code",
      "metadata": {
        "id": "HnO2SD_gIVh3",
        "colab_type": "code",
        "colab": {}
      },
      "source": [
        "# Carregando a base de dados e fazendo os testes iniciais\n",
        "\n",
        "df2 = pd.read_csv(\"petrol_consumption.csv\")"
      ],
      "execution_count": null,
      "outputs": []
    },
    {
      "cell_type": "code",
      "metadata": {
        "id": "xP8EL-2nIVh6",
        "colab_type": "code",
        "colab": {}
      },
      "source": [
        "df2.head()"
      ],
      "execution_count": null,
      "outputs": []
    },
    {
      "cell_type": "code",
      "metadata": {
        "id": "xQqT0b5MIVh9",
        "colab_type": "code",
        "colab": {}
      },
      "source": [
        "df2.shape"
      ],
      "execution_count": null,
      "outputs": []
    },
    {
      "cell_type": "code",
      "metadata": {
        "id": "uDgmYpY3IVh_",
        "colab_type": "code",
        "colab": {}
      },
      "source": [
        "df2.describe()"
      ],
      "execution_count": null,
      "outputs": []
    },
    {
      "cell_type": "code",
      "metadata": {
        "id": "dpPhZGpvIViB",
        "colab_type": "code",
        "colab": {}
      },
      "source": [
        "# Separando os dados com as variaveis em x e o alvo em y\n",
        "\n",
        "x2 = df2.drop('Petrol_Consumption', axis=1)\n",
        "\n",
        "y2 = df2['Petrol_Consumption']"
      ],
      "execution_count": null,
      "outputs": []
    },
    {
      "cell_type": "code",
      "metadata": {
        "id": "c6WqY-_zIViF",
        "colab_type": "code",
        "colab": {}
      },
      "source": [
        "# Serpando os dados entre treinamento e teste\n",
        "# Para isto precisamos da funçao train_test_split da biblioteca sklearn\n",
        "\n",
        "from sklearn.model_selection import train_test_split\n",
        "\n",
        "x_train2, x_test2, y_train2, y_test2 = train_test_split(x2, y2, test_size=0.3, random_state=0)"
      ],
      "execution_count": null,
      "outputs": []
    },
    {
      "cell_type": "code",
      "metadata": {
        "id": "4UNw1sQPIViH",
        "colab_type": "code",
        "colab": {}
      },
      "source": [
        "# Treinamento da arvore de decisao para a tarefa de regressao - reveja a aula de tarefas de data mining se preciso\n",
        "# Repare que muda o import que fazemos do sklearn\n",
        "\n",
        "from sklearn.tree import DecisionTreeRegressor\n",
        "\n",
        "mod_arvore2 = DecisionTreeRegressor()\n",
        "\n",
        "mod_arvore2.fit(x_train2, y_train2)"
      ],
      "execution_count": null,
      "outputs": []
    },
    {
      "cell_type": "code",
      "metadata": {
        "id": "wQ-SYOx2IViL",
        "colab_type": "code",
        "colab": {}
      },
      "source": [
        "# Prediçoes para o teste\n",
        "\n",
        "y_pred_test2 = mod_arvore2.predict(x_test2)"
      ],
      "execution_count": null,
      "outputs": []
    },
    {
      "cell_type": "code",
      "metadata": {
        "scrolled": false,
        "id": "d2ZT0Gq9IViO",
        "colab_type": "code",
        "colab": {}
      },
      "source": [
        "from sklearn.externals.six import StringIO  \n",
        "from IPython.display import Image  \n",
        "from sklearn.tree import export_graphviz\n",
        "import pydotplus\n",
        "\n",
        "dot_data = StringIO()\n",
        "\n",
        "export_graphviz(mod_arvore2\n",
        "                , out_file=dot_data\n",
        "                , filled=True\n",
        "                , rounded=True\n",
        "                , special_characters=True\n",
        "                , feature_names = df2.columns[0:4]\n",
        "                , class_names=['0','1'])\n",
        "\n",
        "graph = pydotplus.graph_from_dot_data(dot_data.getvalue())  \n",
        "\n",
        "Image(graph.create_png())"
      ],
      "execution_count": null,
      "outputs": []
    },
    {
      "cell_type": "code",
      "metadata": {
        "id": "PmXOYQKdIViR",
        "colab_type": "code",
        "colab": {}
      },
      "source": [
        "# Avaliar os resultados de uma regressao é diferente de avaliar de uma classificaçao\n",
        "# Como os resultados sao continuos, nao podemos usar a matriz de confusao\n",
        "\n",
        "df2_aval = pd.DataFrame({'Real':y_test2, 'Previsto':y_pred_test2})\n",
        "\n",
        "df2_aval"
      ],
      "execution_count": null,
      "outputs": []
    },
    {
      "cell_type": "code",
      "metadata": {
        "id": "LvVDRk4OIViV",
        "colab_type": "code",
        "colab": {}
      },
      "source": [
        "# Para isto, vamos usar duas métricas muito aceitas no mercado\n",
        "# O erro médio absoluto - MAE - Mean Absolute Error - a métrica que eu prefiro\n",
        "# O erro médio quadrado - RMSE - sendo essa a métrica mais comum de avaliaçao\n",
        "\n",
        "from sklearn import metrics\n",
        "\n",
        "print('Mean Absolute Error:', metrics.mean_absolute_error(y_test2, y_pred_test2))\n",
        "print('Root Mean Squared Error:', np.sqrt(metrics.mean_squared_error(y_test2, y_pred_test2)))"
      ],
      "execution_count": null,
      "outputs": []
    },
    {
      "cell_type": "code",
      "metadata": {
        "id": "v75P19mGIViX",
        "colab_type": "code",
        "colab": {}
      },
      "source": [
        "# Como avaliar estas métricas?\n",
        "# Fazendo uma comparaçao entre treinamento e teste - Nao é o caso na arvore regressora, porque o MAE no treinamento serà 0\n",
        "# Prova:\n",
        "\n",
        "print('MAE - Treinamento:', metrics.mean_absolute_error(y_train2, mod_arvore2.predict(x_train2)))\n",
        "\n",
        "print('MAE - Teste:', metrics.mean_absolute_error(y_test2, y_pred_test2))"
      ],
      "execution_count": null,
      "outputs": []
    },
    {
      "cell_type": "code",
      "metadata": {
        "id": "O0YYXTIwIVia",
        "colab_type": "code",
        "colab": {}
      },
      "source": [
        "# Olhando apenas para a base de teste\n",
        "\n",
        "print(\"A média do consumo de de combustivel da base é:\")\n",
        "print(y_test2.mean())\n",
        "print()\n",
        "print(\"O percentual do MAE em relaçao a média da base: \")\n",
        "print(round(metrics.mean_absolute_error(y_test2, y_pred_test2)/y_test2.mean()*100,2))"
      ],
      "execution_count": null,
      "outputs": []
    },
    {
      "cell_type": "code",
      "metadata": {
        "id": "kcQklZFpIVid",
        "colab_type": "code",
        "colab": {}
      },
      "source": [
        "# Numeros razoaveis sao aqueles abaixo de 10%. O modelo poderia ser melhor :|"
      ],
      "execution_count": null,
      "outputs": []
    },
    {
      "cell_type": "code",
      "metadata": {
        "id": "EzQgKCqfIVif",
        "colab_type": "code",
        "colab": {}
      },
      "source": [
        "# Acuràcia do modelo - nao vai fazer sentido porque nao é variavel binaria - classificaçao!\n",
        "\n",
        "print(\"Acuracia:\",metrics.accuracy_score(y_test2, y_pred_test2))"
      ],
      "execution_count": null,
      "outputs": []
    },
    {
      "cell_type": "markdown",
      "metadata": {
        "id": "ztP5_-WPIVij",
        "colab_type": "text"
      },
      "source": [
        "__________________________________"
      ]
    },
    {
      "cell_type": "markdown",
      "metadata": {
        "id": "eesTAvTqIVik",
        "colab_type": "text"
      },
      "source": [
        "#### Na proxima aula vamos falar sobre como podar as arvores de decisao para melhorar a performance e evitar o overfitting"
      ]
    }
  ]
}