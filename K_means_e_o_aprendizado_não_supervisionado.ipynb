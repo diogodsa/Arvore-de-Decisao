{
  "nbformat": 4,
  "nbformat_minor": 0,
  "metadata": {
    "kernelspec": {
      "display_name": "Python 3",
      "language": "python",
      "name": "python3"
    },
    "language_info": {
      "codemirror_mode": {
        "name": "ipython",
        "version": 3
      },
      "file_extension": ".py",
      "mimetype": "text/x-python",
      "name": "python",
      "nbconvert_exporter": "python",
      "pygments_lexer": "ipython3",
      "version": "3.7.4"
    },
    "colab": {
      "name": "K-means e o aprendizado não supervisionado.ipynb",
      "provenance": [],
      "include_colab_link": true
    }
  },
  "cells": [
    {
      "cell_type": "markdown",
      "metadata": {
        "id": "view-in-github",
        "colab_type": "text"
      },
      "source": [
        "<a href=\"https://colab.research.google.com/github/diogodsa/Arvore-de-Decisao/blob/master/K_means_e_o_aprendizado_n%C3%A3o_supervisionado.ipynb\" target=\"_parent\"><img src=\"https://colab.research.google.com/assets/colab-badge.svg\" alt=\"Open In Colab\"/></a>"
      ]
    },
    {
      "cell_type": "markdown",
      "metadata": {
        "id": "beppS1PQEfnB",
        "colab_type": "text"
      },
      "source": [
        "## K-means e o aprendizado não supervisionado\n",
        "\n",
        " \n",
        "\n",
        "#### Motivação\n",
        "\n",
        "\n",
        "- Criação da base de dados sintética\n",
        "\n",
        "- Treinamento do K-means\n",
        "\n",
        "- Visualização dos resultados\n",
        "\n",
        "- Previsão em novos dados\n",
        "\n",
        "- Avaliação do nùmero de clusters necessàrios\n",
        "\n",
        " \n",
        "\n",
        "________________________________________________________\n"
      ]
    },
    {
      "cell_type": "code",
      "metadata": {
        "id": "NQh5qvdgEfnC",
        "colab_type": "code",
        "colab": {}
      },
      "source": [
        "# Carregando as bibliotecas\n",
        "\n",
        "import numpy as np\n",
        "import pandas as pd\n",
        "import matplotlib.pyplot as plt\n",
        "from sklearn.cluster import KMeans\n",
        "import matplotlib.pyplot as plt\n",
        "%matplotlib inline"
      ],
      "execution_count": 1,
      "outputs": []
    },
    {
      "cell_type": "markdown",
      "metadata": {
        "id": "AhbTXsY_EfnF",
        "colab_type": "text"
      },
      "source": [
        "_____________________________"
      ]
    },
    {
      "cell_type": "markdown",
      "metadata": {
        "id": "adzOTfmcEfnG",
        "colab_type": "text"
      },
      "source": [
        "### Criaçao da base de dados sintética"
      ]
    },
    {
      "cell_type": "code",
      "metadata": {
        "id": "FlOAPkIaEfnH",
        "colab_type": "code",
        "colab": {}
      },
      "source": [
        "base = 2*np.random.rand(300,2)\n",
        "base[100:200, :] = base[100:200, :] + 2 + np.random.rand(100,1) \n",
        "base[200:300, :] = base[100:200, :] + 2.5 + np.random.rand(100,1) "
      ],
      "execution_count": 2,
      "outputs": []
    },
    {
      "cell_type": "code",
      "metadata": {
        "id": "pn6hjsf0EfnK",
        "colab_type": "code",
        "colab": {
          "base_uri": "https://localhost:8080/",
          "height": 404
        },
        "outputId": "fc2dd881-38e9-4c5d-bca4-fa61c126f441"
      },
      "source": [
        "# Visualizaçao da base\n",
        "\n",
        "plt.figure(figsize = (10, 6))\n",
        "plt.scatter(base[ : , 0], base[ :, 1], s = 30, color = \"blue\")\n",
        "plt.title('Base de dados para o K-means')\n",
        "plt.xlabel('Eixo X')\n",
        "plt.ylabel('Eixo Y');"
      ],
      "execution_count": 3,
      "outputs": [
        {
          "output_type": "display_data",
          "data": {
            "image/png": "[encoded data removed]",
            "text/plain": [
              "<Figure size 720x432 with 1 Axes>"
            ]
          },
          "metadata": {
            "tags": [],
            "needs_background": "light"
          }
        }
      ]
    },
    {
      "cell_type": "markdown",
      "metadata": {
        "id": "XxB2l4AeEfnO",
        "colab_type": "text"
      },
      "source": [
        "_____________________________"
      ]
    },
    {
      "cell_type": "markdown",
      "metadata": {
        "id": "9VWKpp5lEfnP",
        "colab_type": "text"
      },
      "source": [
        "### Treinamento do K-means"
      ]
    },
    {
      "cell_type": "code",
      "metadata": {
        "id": "Vfs0SRfbEfnQ",
        "colab_type": "code",
        "colab": {}
      },
      "source": [
        "kmodel = KMeans(n_clusters = 3, random_state = 42)\n",
        "clusters = kmodel.fit(base)"
      ],
      "execution_count": 4,
      "outputs": []
    },
    {
      "cell_type": "code",
      "metadata": {
        "id": "4xzWnaPkEfnT",
        "colab_type": "code",
        "colab": {
          "base_uri": "https://localhost:8080/",
          "height": 71
        },
        "outputId": "a645d170-eca5-4e38-8c11-9d564119edce"
      },
      "source": [
        "# Verificaçao dos centroides\n",
        "\n",
        "clusters.cluster_centers_"
      ],
      "execution_count": 5,
      "outputs": [
        {
          "output_type": "execute_result",
          "data": {
            "text/plain": [
              "array([[0.95159701, 1.04303465],\n",
              "       [6.48843021, 6.56340155],\n",
              "       [3.46228367, 3.53725501]])"
            ]
          },
          "metadata": {
            "tags": []
          },
          "execution_count": 5
        }
      ]
    },
    {
      "cell_type": "code",
      "metadata": {
        "id": "X7eySJwvEfnV",
        "colab_type": "code",
        "colab": {
          "base_uri": "https://localhost:8080/",
          "height": 35
        },
        "outputId": "acc8ed1e-64e5-4cea-cfe9-b8e4ce694f18"
      },
      "source": [
        "clusters.inertia_"
      ],
      "execution_count": 6,
      "outputs": [
        {
          "output_type": "execute_result",
          "data": {
            "text/plain": [
              "254.23295376073557"
            ]
          },
          "metadata": {
            "tags": []
          },
          "execution_count": 6
        }
      ]
    },
    {
      "cell_type": "code",
      "metadata": {
        "id": "VJYRYEXzEfnZ",
        "colab_type": "code",
        "colab": {}
      },
      "source": [
        "#array([[3.57643144, 3.42644555],\n",
        "#       [6.57857301, 6.42858712],\n",
        "#       [1.02592749, 1.09570578]])"
      ],
      "execution_count": null,
      "outputs": []
    },
    {
      "cell_type": "code",
      "metadata": {
        "id": "Jjwqb5LFEfnd",
        "colab_type": "code",
        "colab": {},
        "outputId": "34ddb3cc-b866-4dbc-e291-dcc24df7aa84"
      },
      "source": [
        "clusters.cluster_centers_[0][0]"
      ],
      "execution_count": null,
      "outputs": [
        {
          "output_type": "execute_result",
          "data": {
            "text/plain": [
              "3.576431443886428"
            ]
          },
          "metadata": {
            "tags": []
          },
          "execution_count": 8
        }
      ]
    },
    {
      "cell_type": "code",
      "metadata": {
        "id": "JVBQ6CgrEfng",
        "colab_type": "code",
        "colab": {},
        "outputId": "c08edd84-0d98-42d3-dbf9-50222f8c5e1a"
      },
      "source": [
        "clusters.cluster_centers_[1][0]"
      ],
      "execution_count": null,
      "outputs": [
        {
          "output_type": "execute_result",
          "data": {
            "text/plain": [
              "6.57857300909296"
            ]
          },
          "metadata": {
            "tags": []
          },
          "execution_count": 10
        }
      ]
    },
    {
      "cell_type": "code",
      "metadata": {
        "id": "DAJVq4rlEfnj",
        "colab_type": "code",
        "colab": {
          "base_uri": "https://localhost:8080/",
          "height": 269
        },
        "outputId": "1bccca22-b3de-425a-862e-d75d7fddc4ee"
      },
      "source": [
        "# Acessando os clusters\n",
        "\n",
        "clusters.labels_"
      ],
      "execution_count": 7,
      "outputs": [
        {
          "output_type": "execute_result",
          "data": {
            "text/plain": [
              "array([0, 0, 0, 0, 0, 0, 0, 0, 0, 0, 0, 0, 0, 0, 0, 0, 0, 0, 0, 0, 0, 0,\n",
              "       0, 0, 0, 0, 0, 0, 0, 0, 0, 0, 0, 0, 0, 0, 0, 0, 0, 0, 0, 0, 0, 0,\n",
              "       0, 0, 0, 0, 0, 0, 0, 0, 0, 0, 0, 0, 0, 0, 0, 0, 0, 0, 0, 0, 0, 0,\n",
              "       0, 0, 0, 0, 0, 0, 0, 0, 0, 0, 0, 0, 0, 0, 0, 0, 0, 0, 0, 0, 0, 0,\n",
              "       0, 0, 0, 0, 0, 0, 0, 0, 0, 0, 0, 0, 2, 2, 2, 2, 2, 2, 2, 2, 2, 2,\n",
              "       2, 2, 2, 2, 2, 2, 2, 2, 2, 2, 2, 2, 2, 2, 2, 2, 2, 2, 2, 2, 2, 2,\n",
              "       2, 2, 2, 2, 2, 2, 2, 2, 2, 2, 2, 2, 2, 2, 2, 2, 2, 2, 2, 2, 2, 2,\n",
              "       2, 2, 2, 2, 2, 2, 2, 2, 2, 2, 2, 2, 2, 2, 2, 2, 2, 2, 2, 2, 2, 2,\n",
              "       2, 2, 2, 2, 2, 2, 2, 2, 2, 2, 2, 2, 2, 2, 2, 2, 2, 2, 2, 2, 2, 2,\n",
              "       2, 2, 1, 1, 1, 1, 1, 1, 1, 1, 1, 1, 1, 1, 1, 1, 1, 1, 1, 1, 1, 1,\n",
              "       1, 1, 1, 1, 1, 1, 1, 1, 1, 1, 1, 1, 1, 1, 1, 1, 1, 1, 1, 1, 1, 1,\n",
              "       1, 1, 1, 1, 1, 1, 1, 1, 1, 1, 1, 1, 1, 1, 1, 1, 1, 1, 1, 1, 1, 1,\n",
              "       1, 1, 1, 1, 1, 1, 1, 1, 1, 1, 1, 1, 1, 1, 1, 1, 1, 1, 1, 1, 1, 1,\n",
              "       1, 1, 1, 1, 1, 1, 1, 1, 1, 1, 1, 1, 1, 1], dtype=int32)"
            ]
          },
          "metadata": {
            "tags": []
          },
          "execution_count": 7
        }
      ]
    },
    {
      "cell_type": "markdown",
      "metadata": {
        "id": "vRIlmjAkEfnl",
        "colab_type": "text"
      },
      "source": [
        "_____________________________"
      ]
    },
    {
      "cell_type": "markdown",
      "metadata": {
        "id": "j9_9pDAFEfnl",
        "colab_type": "text"
      },
      "source": [
        "### Visualizaçao dos resultados"
      ]
    },
    {
      "cell_type": "code",
      "metadata": {
        "id": "79uUIs0OEfnm",
        "colab_type": "code",
        "colab": {
          "base_uri": "https://localhost:8080/",
          "height": 404
        },
        "outputId": "197b35cd-a52e-4e42-f725-3af4ba4ed6eb"
      },
      "source": [
        "plt.figure(figsize = (10, 6))\n",
        "plt.scatter(base[ : , 0], base[ :, 1], s = 25, color = 'blue')\n",
        "plt.scatter(clusters.cluster_centers_[0][0], clusters.cluster_centers_[0][1], marker='*', s = 150, color = 'red')\n",
        "plt.scatter(clusters.cluster_centers_[1][0], clusters.cluster_centers_[1][1], marker='*', s = 150, color = 'green')\n",
        "plt.scatter(clusters.cluster_centers_[2][0], clusters.cluster_centers_[2][1], marker='*', s = 150, color = 'black')\n",
        "plt.title('Visualizando o resultado do K-means')\n",
        "plt.xlabel('Eixo X')\n",
        "plt.ylabel('Eixo Y');"
      ],
      "execution_count": 9,
      "outputs": [
        {
          "output_type": "display_data",
          "data": {
            "image/png": "[encoded data removed]",
            "text/plain": [
              "<Figure size 720x432 with 1 Axes>"
            ]
          },
          "metadata": {
            "tags": [],
            "needs_background": "light"
          }
        }
      ]
    },
    {
      "cell_type": "markdown",
      "metadata": {
        "id": "dKecKR5VEfnp",
        "colab_type": "text"
      },
      "source": [
        "_____________________________"
      ]
    },
    {
      "cell_type": "markdown",
      "metadata": {
        "id": "uuNmce5TEfnq",
        "colab_type": "text"
      },
      "source": [
        "### Previsao em novos dados"
      ]
    },
    {
      "cell_type": "code",
      "metadata": {
        "id": "3_Kwr8BtEfnq",
        "colab_type": "code",
        "colab": {
          "base_uri": "https://localhost:8080/",
          "height": 35
        },
        "outputId": "0bc5df63-c563-4746-e525-b039cd1c1369"
      },
      "source": [
        "var1 = 7\n",
        "var2 = 6\n",
        "\n",
        "new_data = np.array([var1,var2])\n",
        "new_data = new_data.reshape(1, -1)\n",
        "kmodel.predict(new_data)"
      ],
      "execution_count": 14,
      "outputs": [
        {
          "output_type": "execute_result",
          "data": {
            "text/plain": [
              "array([1], dtype=int32)"
            ]
          },
          "metadata": {
            "tags": []
          },
          "execution_count": 14
        }
      ]
    },
    {
      "cell_type": "markdown",
      "metadata": {
        "id": "4W4x8iueEfnt",
        "colab_type": "text"
      },
      "source": [
        "_____________________________"
      ]
    },
    {
      "cell_type": "markdown",
      "metadata": {
        "id": "i6Q8kF4uEfnt",
        "colab_type": "text"
      },
      "source": [
        "### Avaliaçao dos numeros de clusters necessàrios"
      ]
    },
    {
      "cell_type": "code",
      "metadata": {
        "id": "p5Xvo1vOEfnu",
        "colab_type": "code",
        "colab": {}
      },
      "source": [
        "min_clusters = 2\n",
        "max_clusters = 20\n",
        "inertias = np.zeros(shape = (max_clusters - min_clusters + 1,))"
      ],
      "execution_count": 11,
      "outputs": []
    },
    {
      "cell_type": "code",
      "metadata": {
        "id": "TFjk7iO4Efnw",
        "colab_type": "code",
        "colab": {}
      },
      "source": [
        "for i in range(min_clusters, max_clusters + 1):\n",
        "    km = KMeans(n_clusters = i, random_state = 42)\n",
        "    km.fit(base)\n",
        "    inertias[i - min_clusters] = km.inertia_"
      ],
      "execution_count": 12,
      "outputs": []
    },
    {
      "cell_type": "code",
      "metadata": {
        "id": "CxGRSFMzEfnz",
        "colab_type": "code",
        "colab": {
          "base_uri": "https://localhost:8080/",
          "height": 404
        },
        "outputId": "958cf3dc-33a8-422b-c2a6-bf3e6d70ec95"
      },
      "source": [
        "plt.figure(figsize = (10, 6))\n",
        "plt.scatter(range(min_clusters, max_clusters + 1), inertias, s = 20, color = \"b\")\n",
        "plt.title('Avaliaçao do numero de clusters')\n",
        "plt.xlabel('# de clusters')\n",
        "plt.ylabel('Soma da distancia quadrada');"
      ],
      "execution_count": 13,
      "outputs": [
        {
          "output_type": "display_data",
          "data": {
            "image/png": "[encoded data removed]",
            "text/plain": [
              "<Figure size 720x432 with 1 Axes>"
            ]
          },
          "metadata": {
            "tags": [],
            "needs_background": "light"
          }
        }
      ]
    }
  ]
}